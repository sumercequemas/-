{
 "cells": [
  {
   "cell_type": "code",
   "execution_count": 196,
   "metadata": {},
   "outputs": [],
   "source": [
    "import pandas as pd\n",
    "import os"
   ]
  },
  {
   "cell_type": "code",
   "execution_count": 197,
   "metadata": {},
   "outputs": [],
   "source": [
    "#pd.readexcel('Coordinate.xls')\n",
    "PATH='/home/usuario/Desktop/Bcëo/Tesis/DATA/PQRS_20219050013802'\n",
    "INFO=os.listdir(PATH)\n",
    "A=[i.replace('.data','') for i in INFO]\n",
    "DATA=[i.split('@') for i in A]\n",
    "Variables={'BSHG_CON':'Solar Brightness' ,\n",
    "'TSSM_CON': 'Temperature',\n",
    "'VVAG_CON':'Wind speed',\n",
    "'PTPM_CON_INTER' :'Precipitation',\n",
    "'EVTE_CON':'Evapotranspiration'}\n",
    "\n",
    "DATA=pd.DataFrame(DATA)\n",
    "DATA.columns=['VarId','Station']\n",
    "V=list(Variables.keys())\n",
    "   "
   ]
  },
  {
   "cell_type": "markdown",
   "metadata": {},
   "source": [
    "# Se corre una vez y ya\n"
   ]
  },
  {
   "cell_type": "markdown",
   "metadata": {},
   "source": [
    "\n",
    "delim='|'\n",
    "A=[];B=[]\n",
    "for i in INFO:\n",
    "    YEARS=pd.read_csv(PATH+'/'+i,sep=delim,engine='python',parse_dates=['Fecha'])\n",
    "    YEARS.columns\n",
    "    YEARS['year'] = pd.DatetimeIndex(YEARS['Fecha']).year\n",
    "    A.append(YEARS['year'][0])\n",
    "    B.append(list(YEARS['year'])[-1])\n",
    "   "
   ]
  },
  {
   "cell_type": "markdown",
   "metadata": {},
   "source": [
    "\n",
    "Path2='/home/usuario/Desktop/Bcëo/Tesis/DATA/'\n",
    "DATA['First year']=A\n",
    "DATA['Last year']=B\n",
    "DATA.drop_duplicates()\n",
    "DATA.index=DATA['Station']\n",
    "DATA.to_excel(Path2+'DATA.xls')"
   ]
  },
  {
   "cell_type": "markdown",
   "metadata": {},
   "source": [
    "# Making lists with the variables with a minimum year value\n"
   ]
  },
  {
   "cell_type": "markdown",
   "metadata": {},
   "source": [
    "Minimum year"
   ]
  },
  {
   "cell_type": "code",
   "execution_count": 234,
   "metadata": {},
   "outputs": [],
   "source": [
    "MIN_YEAR=0\n",
    "DATA=pd.read_excel('/home/usuario/Desktop/Bcëo/Tesis/DATA/DataProcessing/DATA.xls')\n",
    "PS='/home/usuario/Desktop/Bcëo/Tesis/DATA/DataProcessing/'#path stations ideam\n",
    "STATIONS=pd.read_excel(PS+'STATIONS_IDEAM.xls')\n",
    "STATIONS.index=STATIONS['Station']\n",
    "DATA.index=DATA['Station']"
   ]
  },
  {
   "cell_type": "markdown",
   "metadata": {},
   "source": [
    "## Generating CVS with coordinates to make the maps "
   ]
  },
  {
   "cell_type": "code",
   "execution_count": 236,
   "metadata": {},
   "outputs": [],
   "source": [
    "for i in V:\n",
    "    a=DATA[(DATA['Last year']>MIN_YEAR) & (DATA['VarId']==i)] \n",
    "    a=STATIONS.loc[a.index][['latitud','longitud']]\n",
    "    a.to_csv(PS+'Coordinates'+i+'.csv') \n",
    "    "
   ]
  },
  {
   "cell_type": "code",
   "execution_count": 200,
   "metadata": {},
   "outputs": [],
   "source": [
    "Coord_Stati_WIND=STATIONS.loc[STATIONS_WIND.index][['altitud','longitud']]\n",
    "Coord_Stati_TEMP=STATIONS.loc[STATIONS_TEMP.index][['altitud','longitud']]\n",
    "Coord_Stati_PPT=STATIONS.loc[STATIONS_PPT.index][['altitud','longitud']]\n",
    "Coord_Stati_EVA=STATIONS.loc[STATIONS_EVA.index][['altitud','longitud']]\n",
    "Coord_Stati_BRI=STATIONS.loc[STATIONS_BRI.index][['altitud','longitud']]"
   ]
  },
  {
   "cell_type": "code",
   "execution_count": null,
   "metadata": {},
   "outputs": [],
   "source": []
  },
  {
   "cell_type": "code",
   "execution_count": null,
   "metadata": {},
   "outputs": [],
   "source": []
  },
  {
   "cell_type": "code",
   "execution_count": null,
   "metadata": {},
   "outputs": [],
   "source": []
  }
 ],
 "metadata": {
  "kernelspec": {
   "display_name": "Python 3",
   "language": "python",
   "name": "python3"
  },
  "language_info": {
   "codemirror_mode": {
    "name": "ipython",
    "version": 3
   },
   "file_extension": ".py",
   "mimetype": "text/x-python",
   "name": "python",
   "nbconvert_exporter": "python",
   "pygments_lexer": "ipython3",
   "version": "3.8.5"
  }
 },
 "nbformat": 4,
 "nbformat_minor": 4
}
