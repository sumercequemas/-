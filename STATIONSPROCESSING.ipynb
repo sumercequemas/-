{
 "cells": [
  {
   "cell_type": "code",
   "execution_count": 196,
   "metadata": {},
   "outputs": [],
   "source": [
    "import pandas as pd\n",
    "import os"
   ]
  },
  {
   "cell_type": "code",
   "execution_count": 197,
   "metadata": {},
   "outputs": [],
   "source": [
    "#pd.readexcel('Coordinate.xls')\n",
    "PATH='/home/usuario/Desktop/Bcëo/Tesis/DATA/PQRS_20219050013802'\n",
    "INFO=os.listdir(PATH)\n",
    "A=[i.replace('.data','') for i in INFO]\n",
    "DATA=[i.split('@') for i in A]\n",
    "Variables={'BSHG_CON':'Solar Brightness' ,\n",
    "'TSSM_CON': 'Temperature',\n",
    "'VVAG_CON':'Wind speed',\n",
    "'PTPM_CON_INTER' :'Precipitation',\n",
    "'EVTE_CON':'Evapotranspiration'}\n",
    "\n",
    "DATA=pd.DataFrame(DATA)\n",
    "DATA.columns=['VarId','Station']\n",
    "V=list(Variables.keys())\n",
    "   "
   ]
  },
  {
   "cell_type": "markdown",
   "metadata": {},
   "source": [
    "# Se corre una vez y ya\n"
   ]
  },
  {
   "cell_type": "code",
   "execution_count": 3,
   "metadata": {},
   "outputs": [],
   "source": [
    "\n",
    "delim='|'\n",
    "A=[];B=[]\n",
    "for i in INFO:\n",
    "    YEARS=pd.read_csv(PATH+'/'+i,sep=delim,engine='python',parse_dates=['Fecha'])\n",
    "    YEARS.columns\n",
    "    YEARS['year'] = pd.DatetimeIndex(YEARS['Fecha']).year\n",
    "    A.append(YEARS['year'][0])\n",
    "    B.append(list(YEARS['year'])[-1])\n",
    "   "
   ]
  },
  {
   "cell_type": "code",
   "execution_count": 140,
   "metadata": {},
   "outputs": [
    {
     "ename": "NameError",
     "evalue": "name 'B' is not defined",
     "output_type": "error",
     "traceback": [
      "\u001b[0;31m---------------------------------------------------------------------------\u001b[0m",
      "\u001b[0;31mNameError\u001b[0m                                 Traceback (most recent call last)",
      "\u001b[0;32m<ipython-input-140-100a50c5a681>\u001b[0m in \u001b[0;36m<module>\u001b[0;34m\u001b[0m\n\u001b[1;32m      1\u001b[0m \u001b[0mPath2\u001b[0m\u001b[0;34m=\u001b[0m\u001b[0;34m'/home/usuario/Desktop/Bcëo/Tesis/DATA/'\u001b[0m\u001b[0;34m\u001b[0m\u001b[0;34m\u001b[0m\u001b[0m\n\u001b[1;32m      2\u001b[0m \u001b[0mDATA\u001b[0m\u001b[0;34m[\u001b[0m\u001b[0;34m'First year'\u001b[0m\u001b[0;34m]\u001b[0m\u001b[0;34m=\u001b[0m\u001b[0mA\u001b[0m\u001b[0;34m\u001b[0m\u001b[0;34m\u001b[0m\u001b[0m\n\u001b[0;32m----> 3\u001b[0;31m \u001b[0mDATA\u001b[0m\u001b[0;34m[\u001b[0m\u001b[0;34m'Last year'\u001b[0m\u001b[0;34m]\u001b[0m\u001b[0;34m=\u001b[0m\u001b[0mB\u001b[0m\u001b[0;34m\u001b[0m\u001b[0;34m\u001b[0m\u001b[0m\n\u001b[0m\u001b[1;32m      4\u001b[0m \u001b[0mDATA\u001b[0m\u001b[0;34m.\u001b[0m\u001b[0mdrop_duplicates\u001b[0m\u001b[0;34m(\u001b[0m\u001b[0;34m)\u001b[0m\u001b[0;34m\u001b[0m\u001b[0;34m\u001b[0m\u001b[0m\n\u001b[1;32m      5\u001b[0m \u001b[0mDATA\u001b[0m\u001b[0;34m.\u001b[0m\u001b[0mindex\u001b[0m\u001b[0;34m=\u001b[0m\u001b[0mDATA\u001b[0m\u001b[0;34m[\u001b[0m\u001b[0;34m'Station'\u001b[0m\u001b[0;34m]\u001b[0m\u001b[0;34m\u001b[0m\u001b[0;34m\u001b[0m\u001b[0m\n",
      "\u001b[0;31mNameError\u001b[0m: name 'B' is not defined"
     ]
    }
   ],
   "source": [
    "\n",
    "Path2='/home/usuario/Desktop/Bcëo/Tesis/DATA/'\n",
    "DATA['First year']=A\n",
    "DATA['Last year']=B\n",
    "DATA.drop_duplicates()\n",
    "DATA.index=DATA['Station']\n",
    "DATA.to_excel(Path2+'DATA.xls')"
   ]
  },
  {
   "cell_type": "markdown",
   "metadata": {},
   "source": [
    "# Haciendo listas d variables con un valor minimo en años\n"
   ]
  },
  {
   "cell_type": "markdown",
   "metadata": {},
   "source": [
    "Minimum year"
   ]
  },
  {
   "cell_type": "code",
   "execution_count": 234,
   "metadata": {},
   "outputs": [],
   "source": [
    "MIN_YEAR=0\n",
    "DATA=pd.read_excel('/home/usuario/Desktop/Bcëo/Tesis/DATA/DataProcessing/DATA.xls')\n",
    "PS='/home/usuario/Desktop/Bcëo/Tesis/DATA/DataProcessing/'#path stations ideam\n",
    "STATIONS=pd.read_excel(PS+'STATIONS_IDEAM.xls')\n",
    "STATIONS.index=STATIONS['Station']\n",
    "DATA.index=DATA['Station']"
   ]
  },
  {
   "cell_type": "markdown",
   "metadata": {},
   "source": [
    "## Generating CVS with coordinates to make the maps "
   ]
  },
  {
   "cell_type": "code",
   "execution_count": 236,
   "metadata": {},
   "outputs": [],
   "source": [
    "for i in V:\n",
    "    a=DATA[(DATA['Last year']>MIN_YEAR) & (DATA['VarId']==i)] \n",
    "    a=STATIONS.loc[a.index][['latitud','longitud']]\n",
    "    a.to_csv(PS+'Coordinates'+i+'.csv') \n",
    "    "
   ]
  },
  {
   "cell_type": "code",
   "execution_count": null,
   "metadata": {},
   "outputs": [],
   "source": []
  },
  {
   "cell_type": "code",
   "execution_count": null,
   "metadata": {},
   "outputs": [],
   "source": []
  },
  {
   "cell_type": "code",
   "execution_count": null,
   "metadata": {},
   "outputs": [],
   "source": []
  },
  {
   "cell_type": "code",
   "execution_count": null,
   "metadata": {},
   "outputs": [],
   "source": []
  },
  {
   "cell_type": "code",
   "execution_count": null,
   "metadata": {},
   "outputs": [],
   "source": []
  },
  {
   "cell_type": "code",
   "execution_count": 200,
   "metadata": {},
   "outputs": [],
   "source": [
    "Coord_Stati_WIND=STATIONS.loc[STATIONS_WIND.index][['altitud','longitud']]\n",
    "Coord_Stati_TEMP=STATIONS.loc[STATIONS_TEMP.index][['altitud','longitud']]\n",
    "Coord_Stati_PPT=STATIONS.loc[STATIONS_PPT.index][['altitud','longitud']]\n",
    "Coord_Stati_EVA=STATIONS.loc[STATIONS_EVA.index][['altitud','longitud']]\n",
    "Coord_Stati_BRI=STATIONS.loc[STATIONS_BRI.index][['altitud','longitud']]"
   ]
  },
  {
   "cell_type": "code",
   "execution_count": 201,
   "metadata": {},
   "outputs": [
    {
     "data": {
      "text/html": [
       "<div>\n",
       "<style scoped>\n",
       "    .dataframe tbody tr th:only-of-type {\n",
       "        vertical-align: middle;\n",
       "    }\n",
       "\n",
       "    .dataframe tbody tr th {\n",
       "        vertical-align: top;\n",
       "    }\n",
       "\n",
       "    .dataframe thead th {\n",
       "        text-align: right;\n",
       "    }\n",
       "</style>\n",
       "<table border=\"1\" class=\"dataframe\">\n",
       "  <thead>\n",
       "    <tr style=\"text-align: right;\">\n",
       "      <th></th>\n",
       "      <th>altitud</th>\n",
       "      <th>longitud</th>\n",
       "    </tr>\n",
       "  </thead>\n",
       "  <tbody>\n",
       "    <tr>\n",
       "      <th>0</th>\n",
       "      <td>2582</td>\n",
       "      <td>-77.661978</td>\n",
       "    </tr>\n",
       "    <tr>\n",
       "      <th>27</th>\n",
       "      <td>1700</td>\n",
       "      <td>-77.221667</td>\n",
       "    </tr>\n",
       "    <tr>\n",
       "      <th>43</th>\n",
       "      <td>31</td>\n",
       "      <td>-74.517306</td>\n",
       "    </tr>\n",
       "    <tr>\n",
       "      <th>44</th>\n",
       "      <td>30</td>\n",
       "      <td>-74.512222</td>\n",
       "    </tr>\n",
       "    <tr>\n",
       "      <th>69</th>\n",
       "      <td>227</td>\n",
       "      <td>-76.651500</td>\n",
       "    </tr>\n",
       "    <tr>\n",
       "      <th>...</th>\n",
       "      <td>...</td>\n",
       "      <td>...</td>\n",
       "    </tr>\n",
       "    <tr>\n",
       "      <th>858</th>\n",
       "      <td>475</td>\n",
       "      <td>-75.833333</td>\n",
       "    </tr>\n",
       "    <tr>\n",
       "      <th>889</th>\n",
       "      <td>350</td>\n",
       "      <td>-71.745028</td>\n",
       "    </tr>\n",
       "    <tr>\n",
       "      <th>894</th>\n",
       "      <td>1100</td>\n",
       "      <td>-72.616667</td>\n",
       "    </tr>\n",
       "    <tr>\n",
       "      <th>905</th>\n",
       "      <td>2210</td>\n",
       "      <td>-75.133333</td>\n",
       "    </tr>\n",
       "    <tr>\n",
       "      <th>924</th>\n",
       "      <td>118</td>\n",
       "      <td>-74.082500</td>\n",
       "    </tr>\n",
       "  </tbody>\n",
       "</table>\n",
       "<p>68 rows × 2 columns</p>\n",
       "</div>"
      ],
      "text/plain": [
       "     altitud   longitud\n",
       "0       2582 -77.661978\n",
       "27      1700 -77.221667\n",
       "43        31 -74.517306\n",
       "44        30 -74.512222\n",
       "69       227 -76.651500\n",
       "..       ...        ...\n",
       "858      475 -75.833333\n",
       "889      350 -71.745028\n",
       "894     1100 -72.616667\n",
       "905     2210 -75.133333\n",
       "924      118 -74.082500\n",
       "\n",
       "[68 rows x 2 columns]"
      ]
     },
     "execution_count": 201,
     "metadata": {},
     "output_type": "execute_result"
    }
   ],
   "source": [
    "Coord_Stati_BRI"
   ]
  },
  {
   "cell_type": "code",
   "execution_count": null,
   "metadata": {},
   "outputs": [],
   "source": []
  }
 ],
 "metadata": {
  "kernelspec": {
   "display_name": "Python 3",
   "language": "python",
   "name": "python3"
  },
  "language_info": {
   "codemirror_mode": {
    "name": "ipython",
    "version": 3
   },
   "file_extension": ".py",
   "mimetype": "text/x-python",
   "name": "python",
   "nbconvert_exporter": "python",
   "pygments_lexer": "ipython3",
   "version": "3.8.5"
  }
 },
 "nbformat": 4,
 "nbformat_minor": 4
}
